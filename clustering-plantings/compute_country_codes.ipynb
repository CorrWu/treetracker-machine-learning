{
 "cells": [
  {
   "cell_type": "code",
   "execution_count": 1,
   "metadata": {},
   "outputs": [],
   "source": [
    "import pandas as pd\n",
    "from countries import countries\n",
    "import numpy as np\n",
    "from multiprocessing import  Pool"
   ]
  },
  {
   "cell_type": "markdown",
   "metadata": {},
   "source": [
    "# Computing which country a tree is in\n",
    "\n",
    "We want to take the LAT/LONG coordinates of each tree and find out which country it belongs to. There are only services that do this (e.g. one from Google), but they are limiting free access. Since we have more than 200k trees, we need to choose a different way.\n",
    "\n",
    "We use the [countries package](https://github.com/che0/countries) by che0, which they thankfully released as public domain code. To use it, a package of polygons delineating each country's borders has to be downloaded and extracted first. See the link above for details."
   ]
  },
  {
   "cell_type": "code",
   "execution_count": 2,
   "metadata": {
    "pycharm": {
     "name": "#%%\n"
    }
   },
   "outputs": [],
   "source": [
    "cc = countries.CountryChecker('countries/TM_WORLD_BORDERS-0.3/TM_WORLD_BORDERS-0.3.shp')\n",
    "\n",
    "def gps_to_country(lat, lon):\n",
    "    if (lat is None) or (lon is None):\n",
    "        return \"LatLonNone\"\n",
    "    point = countries.Point(lat, lon)\n",
    "    country_code = cc.getCountry(point)\n",
    "    if country_code is None:\n",
    "        return \"CountryCodeNone\"\n",
    "    else:\n",
    "        return country_code.iso"
   ]
  },
  {
   "cell_type": "code",
   "execution_count": 2,
   "metadata": {},
   "outputs": [],
   "source": [
    "# Contains the columns [\"id\", \"time_created\", \"lat\", \"lon\"]\n",
    "df = pd.read_csv(\"tree_data.csv\")"
   ]
  },
  {
   "cell_type": "code",
   "execution_count": 6,
   "metadata": {},
   "outputs": [
    {
     "name": "stdout",
     "output_type": "stream",
     "text": [
      "-4.782518333333333 38.29521333333333\n",
      "TZ\n",
      "-4.782491666666667 38.29519833333333\n",
      "TZ\n",
      "-4.782401666666667 38.29512666666667\n",
      "TZ\n",
      "-4.782455000000001 38.29514666666667\n",
      "TZ\n",
      "-4.782398333333333 38.29515\n",
      "TZ\n",
      "-4.7824300000000015 38.295028333333335\n",
      "TZ\n",
      "-4.782426666666667 38.29500166666666\n",
      "TZ\n",
      "-4.7824399999999985 38.294975\n",
      "TZ\n",
      "-4.782445 38.29500333333333\n",
      "TZ\n",
      "-4.782443333333333 38.29497\n",
      "TZ\n"
     ]
    }
   ],
   "source": [
    "# Short test to see whether it works\n",
    "for i in range(10):\n",
    "    print(df.lat[i], df.lon[i])\n",
    "    print(gps_to_country(df.lat[i], df.lon[i]))"
   ]
  },
  {
   "cell_type": "code",
   "execution_count": 11,
   "metadata": {
    "pycharm": {
     "name": "#%%\n"
    },
    "scrolled": false
   },
   "outputs": [],
   "source": [
    "# Apply method to all locations in the database\n",
    "df[\"country_code\"] = df.apply(lambda x: gps_to_country(x.lat, x.lon), axis=1)"
   ]
  },
  {
   "cell_type": "code",
   "execution_count": 12,
   "metadata": {},
   "outputs": [],
   "source": [
    "df.to_csv(\"tree_data_cc_single_core.csv\", index=False)"
   ]
  },
  {
   "cell_type": "markdown",
   "metadata": {},
   "source": [
    "## Compute country code distribution\n",
    "\n",
    "Look at which country codes occur how often. _CountryCodeNone_ and _nan_ indicate an error in looking up the country codes. These should probably be investigated at some point."
   ]
  },
  {
   "cell_type": "code",
   "execution_count": 15,
   "metadata": {},
   "outputs": [],
   "source": [
    "country_code_concat = country_codes[0]\n",
    "for i in range(1,len(country_codes)):\n",
    "    country_code_concat.extend(country_codes[i])"
   ]
  },
  {
   "cell_type": "code",
   "execution_count": 4,
   "metadata": {},
   "outputs": [
    {
     "name": "stdout",
     "output_type": "stream",
     "text": [
      "0    TZ\n",
      "1    TZ\n",
      "2    TZ\n",
      "3    TZ\n",
      "4    TZ\n",
      "5    TZ\n",
      "6    TZ\n",
      "7    TZ\n",
      "8    TZ\n",
      "9    TZ\n",
      "Name: country_code, dtype: object\n",
      "Counter({'TZ': 198603, 'UG': 26692, 'KE': 13487, 'IN': 7393, 'NG': 3736, 'GH': 3013, 'MY': 2497, 'US': 1152, 'TG': 613, 'TH': 446, 'ID': 334, 'IE': 106, 'NP': 101, 'PH': 99, 'CountryCodeNone': 91, 'BR': 79, 'CV': 68, 'PK': 60, 'PT': 51, 'CO': 40, nan: 36, 'CA': 35, 'FR': 35, 'JO': 31, 'SD': 30, 'RO': 22, 'HR': 21, 'DE': 21, 'GB': 19, 'HT': 16, 'IT': 15, 'NL': 13, 'ZA': 12, 'AU': 11, 'ES': 10, 'SE': 8, 'SG': 7, 'CZ': 6, 'SR': 5, 'BA': 4, 'AF': 4, 'PR': 4, 'LK': 4, 'NI': 4, 'SI': 3, 'LU': 3, 'PL': 3, 'BE': 2, 'JM': 2, 'MX': 2, 'MW': 2, 'TW': 1, 'GR': 1, 'BD': 1, 'CL': 1, 'TT': 1, 'CN': 1, 'UA': 1, 'UZ': 1, 'NZ': 1})\n"
     ]
    }
   ],
   "source": [
    "df = pd.read_csv(\"tree_data_cc_single_core.csv\")\n",
    "print(df.country_code[:10])\n",
    "from collections import Counter\n",
    "counter = Counter(df.country_code)\n",
    "print(counter)"
   ]
  },
  {
   "cell_type": "markdown",
   "metadata": {},
   "source": [
    "# Deprecated\n",
    "\n",
    "I wanted to parallelize computing the country codes from LAT/LONG. Didn't work, there's still an error somewhere. Went with single-core solution instead. Good enough for me. Might not be good enough for production."
   ]
  },
  {
   "cell_type": "code",
   "execution_count": 8,
   "metadata": {},
   "outputs": [],
   "source": [
    "def parallelize_dataframe(data, func, n_cores=4):\n",
    "    n = len(data)\n",
    "    batch_size = n//n_cores\n",
    "    print(f\"Batch size {batch_size}\")\n",
    "    data_split = [data[(i*batch_size):((i+1)*batch_size)] for i in range(n_cores)]\n",
    "    data_split[-1] += data[(n_cores*batch_size):]\n",
    "    #df_split = np.array_split(df, n_cores)\n",
    "    pool = Pool(n_cores)\n",
    "    res = pool.map(func, data_split)\n",
    "    pool.close()\n",
    "    pool.join()\n",
    "    return res\n",
    "\n",
    "def batch_gps_to_country(batch_data):\n",
    "    return [gps_to_country(lat,lon) for lat,lon in batch_data]\n",
    "        "
   ]
  },
  {
   "cell_type": "code",
   "execution_count": 28,
   "metadata": {},
   "outputs": [
    {
     "name": "stdout",
     "output_type": "stream",
     "text": [
      "[12, 12, 12, 15]\n"
     ]
    }
   ],
   "source": [
    "data = list(zip(df.lat[:51], df.lon[:51]))\n",
    "n_cores = 4\n",
    "            \n",
    "n = len(data)\n",
    "batch_size = n//n_cores\n",
    "data_split = [data[(i*batch_size):((i+1)*batch_size)] for i in range(n_cores)]\n",
    "data_split[-1] += data[(n_cores*batch_size):]\n",
    "\n",
    "print([len(split) for split in data_split])"
   ]
  }
 ],
 "metadata": {
  "kernelspec": {
   "display_name": "Python 3",
   "language": "python",
   "name": "python3"
  },
  "language_info": {
   "codemirror_mode": {
    "name": "ipython",
    "version": 3
   },
   "file_extension": ".py",
   "mimetype": "text/x-python",
   "name": "python",
   "nbconvert_exporter": "python",
   "pygments_lexer": "ipython3",
   "version": "3.8.2"
  }
 },
 "nbformat": 4,
 "nbformat_minor": 1
}
