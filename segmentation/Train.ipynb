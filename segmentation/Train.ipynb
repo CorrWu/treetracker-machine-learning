{
 "cells": [
  {
   "cell_type": "code",
   "execution_count": 18,
   "metadata": {
    "id": "ouXiABiSBxov",
    "tags": []
   },
   "outputs": [],
   "source": [
    "!pip install -r requirements.txt -q"
   ]
  },
  {
   "cell_type": "code",
   "execution_count": 19,
   "metadata": {
    "tags": []
   },
   "outputs": [],
   "source": [
    "# import subprocess\n",
    "\n",
    "# subprocess.run([\"aws\", \"s3\", \"sync\", \"s3://treetracker-training-images/pilot_annotations/PlantVillage/\", \"local_data/\"])"
   ]
  },
  {
   "cell_type": "code",
   "execution_count": 26,
   "metadata": {
    "tags": []
   },
   "outputs": [],
   "source": [
    "import tqdm \n",
    "import network\n",
    "import utils\n",
    "import os\n",
    "import random\n",
    "import argparse\n",
    "import numpy as np\n",
    "\n",
    "from torch.utils import data\n",
    "from datasets import LeafDataset\n",
    "from utils import ext_transforms as et\n",
    "from metrics import StreamSegMetrics, BinarySegMetrics\n",
    "\n",
    "import torch\n",
    "import torch.nn as nn\n",
    "from utils.visualizer import Visualizer\n",
    "\n",
    "from PIL import Image\n",
    "import matplotlib\n",
    "import matplotlib.pyplot as plt\n",
    "from torchvision import transforms\n",
    "import matplotlib.pyplot as plt\n",
    "\n",
    "import uuid\n",
    "\n"
   ]
  },
  {
   "cell_type": "code",
   "execution_count": 29,
   "metadata": {
    "tags": []
   },
   "outputs": [
    {
     "name": "stdout",
     "output_type": "stream",
     "text": [
      "sagemaker.config INFO - Not applying SDK defaults from location: /etc/xdg/sagemaker/config.yaml\n",
      "sagemaker.config INFO - Not applying SDK defaults from location: /home/ec2-user/.config/sagemaker/config.yaml\n",
      "INFO:botocore.credentials:Found credentials from IAM Role: BaseNotebookInstanceEc2InstanceRole\n",
      "INFO:botocore.credentials:Found credentials from IAM Role: BaseNotebookInstanceEc2InstanceRole\n",
      "INFO:botocore.credentials:Found credentials from IAM Role: BaseNotebookInstanceEc2InstanceRole\n",
      "sagemaker.config INFO - Fetched defaults config from location: /home/ec2-user/SageMaker/treetracker-machine-learning/segmentation\n",
      "INFO:sagemaker.experiments.run:The run (test) under experiment (main) already exists. Loading it.\n",
      "Device: cpu\n",
      "Calling s3 sync! This may take a while\n",
      "Finished split\n",
      "7671\n",
      "7672\n",
      "Root : local_data/\n",
      "CWD:  /home/ec2-user/SageMaker/treetracker-machine-learning/segmentation\n",
      "Children:  ['test.txt', 'val.txt', 'train.txt', '.ipynb_checkpoints']\n",
      "Root : local_data/\n",
      "CWD:  /home/ec2-user/SageMaker/treetracker-machine-learning/segmentation\n",
      "Children:  ['test.txt', 'val.txt', 'train.txt', '.ipynb_checkpoints']\n",
      "Dataset: custom, Train set: 5369, Val set: 1534\n",
      "[!] Retrain\n",
      "Epoch 1, Itrs 10/800, Loss=0.385223\n",
      "Syncing model artifacts from checkpoints/latest_deeplabv3plus_mobilenet_custom_os16.pth  to : s3://treetracker-ml-models/sagemaker-training/\n",
      "Model saved as checkpoints/latest_deeplabv3plus_mobilenet_custom_os16.pth\n",
      "validation...\n",
      "18it [00:13,  1.37it/s]^C\n",
      "18it [00:13,  1.32it/s]\n"
     ]
    }
   ],
   "source": [
    "!python3 binary_leaf_main.py --model deeplabv3plus_mobilenet --custom_data_path \"local_data/\" --batch_size 16 --lr 0.12 --total_itrs 800 --loss_type BCE --val_interval 10  --separable_conv --s3_model_dir \"s3://treetracker-ml-models/sagemaker-training/\""
   ]
  }
 ],
 "metadata": {
  "accelerator": "GPU",
  "colab": {
   "gpuType": "T4",
   "provenance": []
  },
  "kernelspec": {
   "display_name": "conda_pytorch_p310",
   "language": "python",
   "name": "conda_pytorch_p310"
  },
  "language_info": {
   "codemirror_mode": {
    "name": "ipython",
    "version": 3
   },
   "file_extension": ".py",
   "mimetype": "text/x-python",
   "name": "python",
   "nbconvert_exporter": "python",
   "pygments_lexer": "ipython3",
   "version": "3.10.13"
  }
 },
 "nbformat": 4,
 "nbformat_minor": 4
}
