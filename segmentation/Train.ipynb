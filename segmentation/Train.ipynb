{
 "cells": [
  {
   "cell_type": "code",
   "execution_count": 13,
   "metadata": {
    "id": "ouXiABiSBxov",
    "tags": []
   },
   "outputs": [],
   "source": [
    "!pip install -r requirements.txt -q"
   ]
  },
  {
   "cell_type": "code",
   "execution_count": 14,
   "metadata": {
    "tags": []
   },
   "outputs": [],
   "source": [
    "# import subprocess\n",
    "\n",
    "# subprocess.run([\"aws\", \"s3\", \"sync\", \"s3://treetracker-training-images/pilot_annotations/PlantVillage/\", \"local_data/\"])"
   ]
  },
  {
   "cell_type": "code",
   "execution_count": 15,
   "metadata": {
    "tags": []
   },
   "outputs": [],
   "source": [
    "import tqdm \n",
    "import network\n",
    "import utils\n",
    "import os\n",
    "import random\n",
    "import argparse\n",
    "import numpy as np\n",
    "\n",
    "from torch.utils import data\n",
    "from datasets import LeafDataset\n",
    "from utils import ext_transforms as et\n",
    "from metrics import StreamSegMetrics, BinarySegMetrics\n",
    "\n",
    "import torch\n",
    "import torch.nn as nn\n",
    "from utils.visualizer import Visualizer\n",
    "\n",
    "from PIL import Image\n",
    "import matplotlib\n",
    "import matplotlib.pyplot as plt\n",
    "from torchvision import transforms\n",
    "import matplotlib.pyplot as plt\n",
    "\n",
    "import uuid\n",
    "\n"
   ]
  },
  {
   "cell_type": "code",
   "execution_count": null,
   "metadata": {
    "tags": []
   },
   "outputs": [
    {
     "name": "stdout",
     "output_type": "stream",
     "text": [
      "sagemaker.config INFO - Not applying SDK defaults from location: /etc/xdg/sagemaker/config.yaml\n",
      "sagemaker.config INFO - Not applying SDK defaults from location: /home/ec2-user/.config/sagemaker/config.yaml\n",
      "INFO:botocore.credentials:Found credentials from IAM Role: BaseNotebookInstanceEc2InstanceRole\n",
      "INFO:botocore.credentials:Found credentials from IAM Role: BaseNotebookInstanceEc2InstanceRole\n",
      "INFO:botocore.credentials:Found credentials from IAM Role: BaseNotebookInstanceEc2InstanceRole\n",
      "sagemaker.config INFO - Fetched defaults config from location: /home/ec2-user/SageMaker/treetracker-machine-learning/segmentation\n",
      "INFO:sagemaker.experiments.run:The run (test) under experiment (main) already exists. Loading it.\n",
      "Device: cpu\n",
      "Calling s3 sync! This may take a while\n",
      "Finished split\n",
      "7671\n",
      "7672\n",
      "Root : local_data/\n",
      "CWD:  /home/ec2-user/SageMaker/treetracker-machine-learning/segmentation\n",
      "Children:  ['test.txt', 'val.txt', 'train.txt', '.ipynb_checkpoints']\n",
      "Root : local_data/\n",
      "CWD:  /home/ec2-user/SageMaker/treetracker-machine-learning/segmentation\n",
      "Children:  ['test.txt', 'val.txt', 'train.txt', '.ipynb_checkpoints']\n",
      "Dataset: custom, Train set: 5369, Val set: 1534\n",
      "[!] Retrain\n",
      "Epoch 1, Itrs 10/700, Loss=0.194551\n",
      "Epoch 1, Itrs 20/700, Loss=0.122892\n",
      "Epoch 1, Itrs 30/700, Loss=0.070923\n",
      "Epoch 1, Itrs 40/700, Loss=0.063944\n",
      "Epoch 1, Itrs 50/700, Loss=0.061936\n",
      "Syncing model artifacts from checkpoints/latest_deeplabv3plus_mobilenet_custom_os16.pth  to : s3://treetracker-ml-models/sagemaker-training/\n",
      "Model saved as checkpoints/latest_deeplabv3plus_mobilenet_custom_os16.pth\n",
      "validation...\n",
      "384it [04:27,  1.44it/s]\n",
      "Validation Loss: 0.036790\n",
      "\n",
      "Foreground Acc: 0.876009\n",
      "Precision: 0.972590\n",
      "Recall: 0.876009\n",
      "F1 Score: 0.921777\n",
      "IoU Foreground: 0.854903\n",
      "IoU Background: 0.923641\n",
      "Mean IoU: 0.889272\n",
      "\n",
      "==========================================================\n",
      "Syncing model artifacts from checkpoints/best_deeplabv3plus_mobilenet_custom_os16.pth  to : s3://treetracker-ml-models/sagemaker-training/\n",
      "Model saved as checkpoints/best_deeplabv3plus_mobilenet_custom_os16.pth\n",
      "Epoch 1, Itrs 60/700, Loss=0.058623\n",
      "Epoch 1, Itrs 70/700, Loss=0.056462\n",
      "Epoch 1, Itrs 80/700, Loss=0.056414\n",
      "Epoch 1, Itrs 90/700, Loss=0.057819\n",
      "Epoch 1, Itrs 100/700, Loss=0.049600\n",
      "Syncing model artifacts from checkpoints/latest_deeplabv3plus_mobilenet_custom_os16.pth  to : s3://treetracker-ml-models/sagemaker-training/\n",
      "Model saved as checkpoints/latest_deeplabv3plus_mobilenet_custom_os16.pth\n",
      "validation...\n",
      "384it [04:26,  1.44it/s]\n",
      "Validation Loss: 0.032873\n",
      "\n",
      "Foreground Acc: 0.892432\n",
      "Precision: 0.973408\n",
      "Recall: 0.892432\n",
      "F1 Score: 0.931163\n",
      "IoU Foreground: 0.871193\n",
      "IoU Background: 0.931657\n",
      "Mean IoU: 0.901425\n",
      "\n",
      "==========================================================\n",
      "Syncing model artifacts from checkpoints/best_deeplabv3plus_mobilenet_custom_os16.pth  to : s3://treetracker-ml-models/sagemaker-training/\n",
      "Model saved as checkpoints/best_deeplabv3plus_mobilenet_custom_os16.pth\n",
      "Epoch 1, Itrs 110/700, Loss=0.054377\n",
      "Epoch 1, Itrs 120/700, Loss=0.056531\n",
      "Epoch 1, Itrs 130/700, Loss=0.053467\n",
      "Epoch 1, Itrs 140/700, Loss=0.051284\n",
      "Epoch 1, Itrs 150/700, Loss=0.056134\n",
      "Syncing model artifacts from checkpoints/latest_deeplabv3plus_mobilenet_custom_os16.pth  to : s3://treetracker-ml-models/sagemaker-training/\n",
      "Model saved as checkpoints/latest_deeplabv3plus_mobilenet_custom_os16.pth\n",
      "validation...\n",
      "384it [04:28,  1.43it/s]\n",
      "Validation Loss: 0.031114\n",
      "\n",
      "Foreground Acc: 0.929226\n",
      "Precision: 0.961413\n",
      "Recall: 0.929226\n",
      "F1 Score: 0.945046\n",
      "IoU Foreground: 0.895817\n",
      "IoU Background: 0.942938\n",
      "Mean IoU: 0.919377\n",
      "\n",
      "==========================================================\n",
      "Syncing model artifacts from checkpoints/best_deeplabv3plus_mobilenet_custom_os16.pth  to : s3://treetracker-ml-models/sagemaker-training/\n",
      "Model saved as checkpoints/best_deeplabv3plus_mobilenet_custom_os16.pth\n",
      "Epoch 1, Itrs 160/700, Loss=0.055172\n"
     ]
    }
   ],
   "source": [
    "!python3 binary_leaf_main.py --model deeplabv3plus_mobilenet --custom_data_path \"local_data/\" --batch_size 32 --lr 0.10 --total_itrs 700 --loss_type binary_dice --val_interval 50  --separable_conv --s3_model_dir \"s3://treetracker-ml-models/sagemaker-training/\""
   ]
  },
  {
   "cell_type": "code",
   "execution_count": null,
   "metadata": {},
   "outputs": [],
   "source": []
  }
 ],
 "metadata": {
  "accelerator": "GPU",
  "colab": {
   "gpuType": "T4",
   "provenance": []
  },
  "kernelspec": {
   "display_name": "conda_pytorch_p310",
   "language": "python",
   "name": "conda_pytorch_p310"
  },
  "language_info": {
   "codemirror_mode": {
    "name": "ipython",
    "version": 3
   },
   "file_extension": ".py",
   "mimetype": "text/x-python",
   "name": "python",
   "nbconvert_exporter": "python",
   "pygments_lexer": "ipython3",
   "version": "3.10.13"
  }
 },
 "nbformat": 4,
 "nbformat_minor": 4
}
