{
 "cells": [
  {
   "cell_type": "code",
   "execution_count": 10,
   "id": "49320f45-9eb9-42ee-b4f8-ee5212035e61",
   "metadata": {
    "tags": []
   },
   "outputs": [
    {
     "name": "stdout",
     "output_type": "stream",
     "text": [
      "Total Objects: 15344\n"
     ]
    }
   ],
   "source": [
    "!aws s3 ls s3://treetracker-training-images/pilot_annotations/PlantVillage/ --recursive --summarize | grep \"Total Objects:\" "
   ]
  },
  {
   "cell_type": "code",
   "execution_count": 12,
   "id": "376cfc42-bb91-46ad-9449-ce0ba89ea5d9",
   "metadata": {
    "tags": []
   },
   "outputs": [],
   "source": [
    "# Uncomment if you update the S3 data source bucket \n",
    "!aws s3 sync s3://treetracker-training-images/pilot_annotations/PlantVillage/ local_data/ --quiet"
   ]
  },
  {
   "cell_type": "code",
   "execution_count": 13,
   "id": "abfeda04-a677-4448-b3b5-d5c7f8dc488f",
   "metadata": {
    "tags": []
   },
   "outputs": [
    {
     "name": "stdout",
     "output_type": "stream",
     "text": [
      "7671\n",
      "7671\n"
     ]
    }
   ],
   "source": [
    "# Validate all samples have been sync'd\n",
    "import os\n",
    "print (len(os.listdir(\"local_data/samples\")))\n",
    "print (len(os.listdir(\"local_data/binary_masks\")))"
   ]
  }
 ],
 "metadata": {
  "kernelspec": {
   "display_name": "conda_python3",
   "language": "python",
   "name": "conda_python3"
  },
  "language_info": {
   "codemirror_mode": {
    "name": "ipython",
    "version": 3
   },
   "file_extension": ".py",
   "mimetype": "text/x-python",
   "name": "python",
   "nbconvert_exporter": "python",
   "pygments_lexer": "ipython3",
   "version": "3.10.13"
  }
 },
 "nbformat": 4,
 "nbformat_minor": 5
}
