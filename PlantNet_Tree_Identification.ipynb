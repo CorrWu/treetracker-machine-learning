{
 "cells": [
  {
   "cell_type": "code",
   "execution_count": 1,
   "metadata": {},
   "outputs": [],
   "source": [
    "import requests\n",
    "import json\n",
    "from pprint import pprint\n",
    "from urllib.request import urlopen"
   ]
  },
  {
   "cell_type": "code",
   "execution_count": 2,
   "metadata": {},
   "outputs": [],
   "source": [
    "API_KEY = \"2b10RDJx36wcDM4cOxlH8QWlpO\"# Set you API_KEY here\n",
    "api_endpoint = f\"https://my-api.plantnet.org/v2/identify/all?api-key={API_KEY}\""
   ]
  },
  {
   "cell_type": "code",
   "execution_count": 3,
   "metadata": {},
   "outputs": [
    {
     "name": "stdout",
     "output_type": "stream",
     "text": [
      "'Acacia auriculiformis Benth.'\n",
      "0.8987\n"
     ]
    }
   ],
   "source": [
    "image_path_1 = 'https://treetracker-production-images.s3.eu-central-1.amazonaws.com/2020.11.29.12.18.36_18.285143729299307_-73.56444373726845_860956e3-6acf-4441-b5dc-f981c93872c5_IMG_20201127_074118_842354913958461533.jpg'\n",
    "image_data_1 = urlopen(image_path_1)\n",
    "\n",
    "data = {'organs': ['leaf']\n",
    "}\n",
    "\n",
    "files = [('images', (image_path_1, image_data_1))]\n",
    "\n",
    "req = requests.Request('POST', url=api_endpoint, files=files, data=data)\n",
    "prepared = req.prepare()\n",
    "\n",
    "s = requests.Session()\n",
    "response = s.send(prepared)\n",
    "json_result = json.loads(response.text)\n",
    "\n",
    "score_threshold = json_result['results'][0]['score']\n",
    "if score_threshold > 0.05:\n",
    "    pprint(json_result['bestMatch'])\n",
    "    pprint(json_result['results'][0]['score'])\n",
    "else:\n",
    "    pass"
   ]
  },
  {
   "cell_type": "code",
   "execution_count": 10,
   "metadata": {},
   "outputs": [
    {
     "name": "stdout",
     "output_type": "stream",
     "text": [
      "{'Acacia auriculiformis Benth.': 0.8987}\n",
      "{'Acacia auriculiformis Benth.': 0.77564}\n",
      "{'Acacia auriculiformis Benth.': 0.82338}\n"
     ]
    }
   ],
   "source": [
    "# This code is for labeling a list of images\n",
    "\n",
    "highest_results = {}\n",
    "\n",
    "urlpath_list = ['https://treetracker-production-images.s3.eu-central-1.amazonaws.com/2020.11.29.12.18.36_18.285143729299307_-73.56444373726845_860956e3-6acf-4441-b5dc-f981c93872c5_IMG_20201127_074118_842354913958461533.jpg',\n",
    "            'https://treetracker-production-images.s3.eu-central-1.amazonaws.com/2020.11.29.12.18.59_18.285102993249893_-73.5644251294434_0c7a2df5-4e16-496c-b560-f48c522f594e_IMG_20201127_074259_7250303225899779675.jpg',\n",
    "            'https://treetracker-production-images.s3.eu-central-1.amazonaws.com/2020.11.29.12.47.34_18.290133895352483_-73.55797592550516_1947aebe-ee6f-4945-a8c7-701ae38244c6_IMG_20201128_093400_7974902638104254073.jpg']\n",
    "\n",
    "for urlpath in urlpath_list:\n",
    "    image_data = urlopen(urlpath)\n",
    "    data = {'organs': ['leaf']}\n",
    "    files = [('images', (urlpath, image_data))]\n",
    "    req = requests.Request('POST', url=api_endpoint, files=files, data=data)\n",
    "    prepared = req.prepare()\n",
    "    s = requests.Session()\n",
    "    response = s.send(prepared)\n",
    "    json_result = json.loads(response.text)\n",
    "#     pprint(response.status_code)\n",
    "#     pprint(json_result)\n",
    "    score_threshold = json_result['results'][0]['score']\n",
    "    if score_threshold > 0.05:\n",
    "#         pprint(json_result['bestMatch'])\n",
    "#         pprint(json_result['results'][0]['score'])\n",
    "        \n",
    "        highest_results[json_result['bestMatch']] = json_result['results'][0]['score']\n",
    "    else:\n",
    "        pass\n",
    "    print(highest_results)"
   ]
  },
  {
   "cell_type": "code",
   "execution_count": null,
   "metadata": {},
   "outputs": [],
   "source": []
  }
 ],
 "metadata": {
  "kernelspec": {
   "display_name": "Python 3",
   "language": "python",
   "name": "python3"
  },
  "language_info": {
   "codemirror_mode": {
    "name": "ipython",
    "version": 3
   },
   "file_extension": ".py",
   "mimetype": "text/x-python",
   "name": "python",
   "nbconvert_exporter": "python",
   "pygments_lexer": "ipython3",
   "version": "3.8.5"
  }
 },
 "nbformat": 4,
 "nbformat_minor": 4
}
