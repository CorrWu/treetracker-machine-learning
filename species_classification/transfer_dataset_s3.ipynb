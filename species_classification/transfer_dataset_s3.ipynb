{
 "cells": [
  {
   "cell_type": "markdown",
   "id": "1a7898f7",
   "metadata": {},
   "source": [
    "## Download dataset csv\n"
   ]
  },
  {
   "cell_type": "code",
   "execution_count": 1,
   "id": "653d29c4",
   "metadata": {},
   "outputs": [],
   "source": [
    "import torch\n",
    "import numpy as np\n",
    "import pandas as pd\n",
    "import os\n",
    "import urllib\n",
    "import time\n",
    "\n",
    "from PIL import Image\n",
    "\n",
    "\n",
    "import requests\n",
    "import json\n",
    "import datetime \n",
    "import logging \n",
    "\n",
    "\n",
    "\n",
    "\n",
    "torch.backends.cudnn.benchmark = True"
   ]
  },
  {
   "cell_type": "code",
   "execution_count": 2,
   "id": "65e454c4",
   "metadata": {},
   "outputs": [
    {
     "name": "stdout",
     "output_type": "stream",
     "text": [
      "Successfully downloaded training set\n",
      "          0                                                  1\n",
      "0  MANGINDI  2021.10.15.13.16.06_8.419378666666665_-13.2547...\n",
      "1  MANGINDI  2021.10.15.13.15.19_8.418493999999999_-13.2570...\n",
      "2  MANGINDI  2021.10.15.13.15.24_8.419562666666662_-13.2573...\n",
      "3  MANGINDI  2021.10.15.13.15.26_8.419291666666664_-13.2570...\n",
      "4  MANGINDI  2020.11.19.15.26.51_8.4183361_-13.15987094_b78...\n",
      "130340  samples\n"
     ]
    },
    {
     "data": {
      "text/html": [
       "<div>\n",
       "<style scoped>\n",
       "    .dataframe tbody tr th:only-of-type {\n",
       "        vertical-align: middle;\n",
       "    }\n",
       "\n",
       "    .dataframe tbody tr th {\n",
       "        vertical-align: top;\n",
       "    }\n",
       "\n",
       "    .dataframe thead th {\n",
       "        text-align: right;\n",
       "    }\n",
       "</style>\n",
       "<table border=\"1\" class=\"dataframe\">\n",
       "  <thead>\n",
       "    <tr style=\"text-align: right;\">\n",
       "      <th></th>\n",
       "      <th>class</th>\n",
       "      <th>imname</th>\n",
       "      <th>url</th>\n",
       "    </tr>\n",
       "  </thead>\n",
       "  <tbody>\n",
       "    <tr>\n",
       "      <th>0</th>\n",
       "      <td>MANGINDI</td>\n",
       "      <td>2021.10.15.13.16.06_8.419378666666665_-13.2547...</td>\n",
       "      <td>https://treetracker-production-images.s3.eu-ce...</td>\n",
       "    </tr>\n",
       "    <tr>\n",
       "      <th>1</th>\n",
       "      <td>MANGINDI</td>\n",
       "      <td>2021.10.15.13.15.19_8.418493999999999_-13.2570...</td>\n",
       "      <td>https://treetracker-production-images.s3.eu-ce...</td>\n",
       "    </tr>\n",
       "    <tr>\n",
       "      <th>2</th>\n",
       "      <td>MANGINDI</td>\n",
       "      <td>2021.10.15.13.15.24_8.419562666666662_-13.2573...</td>\n",
       "      <td>https://treetracker-production-images.s3.eu-ce...</td>\n",
       "    </tr>\n",
       "    <tr>\n",
       "      <th>3</th>\n",
       "      <td>MANGINDI</td>\n",
       "      <td>2021.10.15.13.15.26_8.419291666666664_-13.2570...</td>\n",
       "      <td>https://treetracker-production-images.s3.eu-ce...</td>\n",
       "    </tr>\n",
       "    <tr>\n",
       "      <th>4</th>\n",
       "      <td>MANGINDI</td>\n",
       "      <td>2020.11.19.15.26.51_8.4183361_-13.15987094_b78...</td>\n",
       "      <td>https://treetracker-production-images.s3.eu-ce...</td>\n",
       "    </tr>\n",
       "  </tbody>\n",
       "</table>\n",
       "</div>"
      ],
      "text/plain": [
       "      class                                             imname  \\\n",
       "0  MANGINDI  2021.10.15.13.16.06_8.419378666666665_-13.2547...   \n",
       "1  MANGINDI  2021.10.15.13.15.19_8.418493999999999_-13.2570...   \n",
       "2  MANGINDI  2021.10.15.13.15.24_8.419562666666662_-13.2573...   \n",
       "3  MANGINDI  2021.10.15.13.15.26_8.419291666666664_-13.2570...   \n",
       "4  MANGINDI  2020.11.19.15.26.51_8.4183361_-13.15987094_b78...   \n",
       "\n",
       "                                                 url  \n",
       "0  https://treetracker-production-images.s3.eu-ce...  \n",
       "1  https://treetracker-production-images.s3.eu-ce...  \n",
       "2  https://treetracker-production-images.s3.eu-ce...  \n",
       "3  https://treetracker-production-images.s3.eu-ce...  \n",
       "4  https://treetracker-production-images.s3.eu-ce...  "
      ]
     },
     "execution_count": 2,
     "metadata": {},
     "output_type": "execute_result"
    }
   ],
   "source": [
    "\n",
    "# Directly downloads the dataurl variable (link to Cam's training set) to datadir\n",
    "datadir = \"/home/ec2-user/SageMaker/treetracker-machine-learning/sample_datasets/Liberia/training.psv\"\n",
    "dataurl =  \"https://raw.githubusercontent.com/Greenstand/Tree_Species/master/training/training_freetown_tagged.psv\"\n",
    "data_update = requests.get(dataurl)\n",
    "if data_update.status_code == 200:\n",
    "    print (\"Successfully downloaded training set\")\n",
    "    with open(datadir, 'w') as f:\n",
    "        f.write(data_update.text)\n",
    "baseurl = \"https://treetracker-production-images.s3.eu-central-1.amazonaws.com/\"\n",
    "assert os.path.exists(datadir)\n",
    "data = pd.read_csv(datadir, sep=\"|\", header=None)\n",
    "print (data.head(5))\n",
    "data.columns = [\"class\", \"imname\"]\n",
    "data[\"url\"] = baseurl + data[\"imname\"]\n",
    "print (data.shape[0], \" samples\")\n",
    "data.head(5)"
   ]
  },
  {
   "cell_type": "code",
   "execution_count": null,
   "id": "04354c59",
   "metadata": {},
   "outputs": [],
   "source": [
    "!wget \"https://treetracker-production-images.s3.eu-central-1.amazonaws.com/2021.10.15.13.16.06_8.419378666666665_-13.25470966666667_fb4be6e3-680c-4b33-b643-6f8f15f44843_IMG_20211005_160208_9009962222668561135.jpg\" "
   ]
  },
  {
   "cell_type": "code",
   "execution_count": 4,
   "id": "ca3bc160",
   "metadata": {},
   "outputs": [],
   "source": [
    "original_data_bucket = \"treetracker-training-images\"\n",
    "dataset_key = \"freetown\" # use this to restrict to a particular directory\n",
    "\n",
    "s3_dest = 's3://{}/{}/'.format(original_data_bucket, dataset_key)\n",
    "def pipe_transfer(df_row):\n",
    "    syscall = \"wget  \\\"%s\\\" | aws s3 cp %s %s\"%(df_row[\"url\"], df_row[\"imname\"], os.path.join(s3_dest, df_row[\"class\"], df_row[\"imname\"]))\n",
    "    code = os.system(syscall)\n",
    "    time.sleep(0.02)\n",
    "    return code == 0"
   ]
  },
  {
   "cell_type": "code",
   "execution_count": null,
   "id": "a70b0461",
   "metadata": {},
   "outputs": [
    {
     "name": "stdout",
     "output_type": "stream",
     "text": [
      "Starting full dataset S3 transfer\n"
     ]
    }
   ],
   "source": [
    "print (\"Starting full dataset S3 transfer\")\n",
    "start = datetime.datetime.now()\n",
    "data[\"s3_transfer_successful\"] = data.apply(pipe_transfer, axis=1)\n",
    "print (\"Finished in \" , datetime.datetime.now() - start)"
   ]
  },
  {
   "cell_type": "code",
   "execution_count": null,
   "id": "36f6c58b",
   "metadata": {},
   "outputs": [],
   "source": [
    "print (data[data[\"s3_transfer_successful\"]], \" samples downloaded out of \", data.shape[0])"
   ]
  },
  {
   "cell_type": "code",
   "execution_count": null,
   "id": "941b6f2e",
   "metadata": {},
   "outputs": [],
   "source": []
  }
 ],
 "metadata": {
  "kernelspec": {
   "display_name": "conda_pytorch_latest_p36",
   "language": "python",
   "name": "conda_pytorch_latest_p36"
  },
  "language_info": {
   "codemirror_mode": {
    "name": "ipython",
    "version": 3
   },
   "file_extension": ".py",
   "mimetype": "text/x-python",
   "name": "python",
   "nbconvert_exporter": "python",
   "pygments_lexer": "ipython3",
   "version": "3.6.13"
  }
 },
 "nbformat": 4,
 "nbformat_minor": 5
}
