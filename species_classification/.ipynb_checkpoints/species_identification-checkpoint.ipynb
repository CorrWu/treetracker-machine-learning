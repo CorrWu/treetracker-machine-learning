{
 "cells": [
  {
   "cell_type": "code",
   "execution_count": 1,
   "metadata": {
    "id": "-91-0791rhpT",
    "colab_type": "code",
    "colab": {
     "base_uri": "https://localhost:8080/",
     "height": 122.0
    },
    "outputId": "6ac4785b-ca31-4585-8792-581c3ee73912"
   },
   "outputs": [
    {
     "name": "stdout",
     "output_type": "stream",
     "text": [
      "Go to this URL in a browser: https://accounts.google.com/o/oauth2/auth?client_id=947318989803-6bn6qk8qdgf4n4g3pfee6491hc0brc4i.apps.googleusercontent.com&redirect_uri=urn%3aietf%3awg%3aoauth%3a2.0%3aoob&response_type=code&scope=email%20https%3a%2f%2fwww.googleapis.com%2fauth%2fdocs.test%20https%3a%2f%2fwww.googleapis.com%2fauth%2fdrive%20https%3a%2f%2fwww.googleapis.com%2fauth%2fdrive.photos.readonly%20https%3a%2f%2fwww.googleapis.com%2fauth%2fpeopleapi.readonly\n",
      "\n",
      "Enter your authorization code:\n",
      "··········\n",
      "Mounted at /gdrive\n"
     ]
    }
   ],
   "source": [
    "from google.colab import drive\n",
    "drive.mount('/gdrive')"
   ]
  },
  {
   "cell_type": "code",
   "execution_count": 2,
   "metadata": {
    "id": "yr0RUlGN3y3s",
    "colab_type": "code",
    "colab": {}
   },
   "outputs": [],
   "source": [
    "datadir = \"/gdrive/My Drive/\""
   ]
  },
  {
   "cell_type": "code",
   "execution_count": 3,
   "metadata": {
    "id": "fMEZJT30rA2t",
    "colab_type": "code",
    "colab": {}
   },
   "outputs": [],
   "source": [
    "import numpy as np\n",
    "import pandas as pd\n",
    "import torch\n",
    "import os\n",
    "import cv2\n",
    "import urllib\n",
    "import random\n",
    "import torchvision\n",
    "import matplotlib.pyplot as plt\n",
    "\n",
    "random.seed(42) "
   ]
  },
  {
   "cell_type": "markdown",
   "metadata": {
    "id": "EpwgtmyOYl0_",
    "colab_type": "text"
   },
   "source": [
    "#Downloading data"
   ]
  },
  {
   "cell_type": "code",
   "execution_count": null,
   "metadata": {
    "id": "aOu8jk8OrnIP",
    "colab_type": "code",
    "colab": {}
   },
   "outputs": [],
   "source": [
    "species = [\"cordia africana\", \"croton\", \"eucalyptus\", \"gravilia\", \"rauvolfia cafffra\"]\n",
    "\n",
    "species_df = {}\n",
    "\n",
    "for i in species:\n",
    "  species_df[i] = pd.read_csv('{}{}.csv'.format(datadir, i)).values"
   ]
  },
  {
   "cell_type": "code",
   "execution_count": null,
   "metadata": {
    "id": "5YQLb6qCtam2",
    "colab_type": "code",
    "colab": {
     "base_uri": "https://localhost:8080/",
     "height": 190.0
    },
    "outputId": "2947c317-ca77-4112-db79-786850dfb905"
   },
   "outputs": [
    {
     "data": {
      "text/plain": [
       "array([['https://treetracker-production-images.s3.eu-central-1.amazonaws.com/2020.05.22.18.30.17_2962105b-1b6c-4f74-8a2e-af0b8c7267ec_IMG_20191126_180925_798699084.jpg'],\n",
       "       ['https://treetracker-production-images.s3.eu-central-1.amazonaws.com/2020.05.22.18.30.19_55cba901-10e7-46f1-9539-ac213cd23955_IMG_20191126_180942_-1950841047.jpg'],\n",
       "       ['https://treetracker-production-images.s3.eu-central-1.amazonaws.com/2020.05.22.18.30.20_58601598-269e-41f2-853c-905d687e1fe4_IMG_20191126_180957_-1128881177.jpg'],\n",
       "       ['https://treetracker-production-images.s3.eu-central-1.amazonaws.com/2020.05.22.18.30.21_ff5cadee-fcd0-4aae-bdb9-51ed2f26e7bd_IMG_20191126_181049_-263104524.jpg'],\n",
       "       ['https://treetracker-production-images.s3.eu-central-1.amazonaws.com/2020.05.22.18.30.31_07f717ba-6363-4b19-a507-aa4eac9f40ca_IMG_20191126_181306_-1254242593.jpg'],\n",
       "       ['https://treetracker-production-images.s3.eu-central-1.amazonaws.com/2020.05.22.18.30.33_60d31e46-ee86-46b6-a067-4f498bc2b744_IMG_20191126_181320_1900048582.jpg'],\n",
       "       ['https://treetracker-production-images.s3.eu-central-1.amazonaws.com/2020.05.22.18.30.34_9e3545f5-9c2b-4b13-a7ea-ff0c18b661dc_IMG_20191126_181338_-530907035.jpg'],\n",
       "       ['https://treetracker-production-images.s3.eu-central-1.amazonaws.com/2020.05.22.18.30.35_027e8caa-172f-4bf8-b0af-05160ec0cad2_IMG_20191126_181353_411324003.jpg']],\n",
       "      dtype=object)"
      ]
     },
     "execution_count": 41,
     "metadata": {
      "tags": []
     },
     "output_type": "execute_result"
    }
   ],
   "source": [
    "species_df[\"rauvolfia cafffra\"][0:8]"
   ]
  },
  {
   "cell_type": "code",
   "execution_count": null,
   "metadata": {
    "id": "mGUh2lis3VBT",
    "colab_type": "code",
    "colab": {
     "base_uri": "https://localhost:8080/",
     "height": 51.0
    },
    "outputId": "587c4ccc-82aa-4431-ff79-cef4e7842714"
   },
   "outputs": [
    {
     "name": "stdout",
     "output_type": "stream",
     "text": [
      "Directory  greenstand_train  already exists\n",
      "Directory  greenstand_test  Created \n"
     ]
    }
   ],
   "source": [
    "def create_dir(name, datadir = datadir):\n",
    "  if not os.path.exists('{}{}'.format(datadir, name)):\n",
    "      os.makedirs(\"{}{}\".format(datadir, name))\n",
    "      print(\"Directory \" , name ,  \" Created \")\n",
    "  else:    \n",
    "      print(\"Directory \" , name ,  \" already exists\")\n",
    "\n",
    "create_dir(\"greenstand_train\")\n",
    "\n",
    "create_dir(\"greenstand_test\")"
   ]
  },
  {
   "cell_type": "code",
   "execution_count": null,
   "metadata": {
    "id": "SxTjuN194Vs0",
    "colab_type": "code",
    "colab": {
     "base_uri": "https://localhost:8080/",
     "height": 187.0
    },
    "outputId": "b7b616b8-a57f-46c5-8d5c-0f19cb38abc1"
   },
   "outputs": [
    {
     "name": "stdout",
     "output_type": "stream",
     "text": [
      "Directory  cordia africana  already exists\n",
      "Directory  cordia africana  already exists\n",
      "Directory  croton  Created \n",
      "Directory  croton  Created \n",
      "Directory  eucalyptus  Created \n",
      "Directory  eucalyptus  Created \n",
      "Directory  gravilia  Created \n",
      "Directory  gravilia  Created \n",
      "Directory  rauvolfia cafffra  Created \n",
      "Directory  rauvolfia cafffra  Created \n"
     ]
    }
   ],
   "source": [
    "for key in species_df.keys():\n",
    "  create_dir(key, datadir+\"greenstand_train/\")\n",
    "  create_dir(key, datadir+\"greenstand_test/\")\n",
    "  data = list(species_df[key].flatten())\n",
    "  random.shuffle(data)\n",
    "\n",
    "  dir = \"{}greenstand_test/{}\".format(datadir, key)\n",
    "  for c, url in enumerate(data[:20]):\n",
    "    resource = urllib.request.urlopen(url)\n",
    "    output = open(\"{}/{}.jpg\".format(dir, c),\"wb\")\n",
    "    output.write(resource.read())\n",
    "    output.close()\n",
    "\n",
    "  dir = \"{}greenstand_train/{}\".format(datadir, key)\n",
    "  for c, url in enumerate(data[20:]):\n",
    "    resource = urllib.request.urlopen(url)\n",
    "    output = open(\"{}/{}.jpg\".format(dir, c),\"wb\")\n",
    "    output.write(resource.read())\n",
    "    output.close()\n"
   ]
  },
  {
   "cell_type": "markdown",
   "metadata": {
    "id": "PdNTIUcsYr_4",
    "colab_type": "text"
   },
   "source": [
    "#Training"
   ]
  },
  {
   "cell_type": "code",
   "execution_count": 4,
   "metadata": {
    "id": "jNqgrPH_YAlo",
    "colab_type": "code",
    "colab": {}
   },
   "outputs": [],
   "source": [
    "device = torch.device(\"cuda:0\" if torch.cuda.is_available() else \"cpu\")"
   ]
  },
  {
   "cell_type": "code",
   "execution_count": 5,
   "metadata": {
    "id": "xreS-Jt_EvJU",
    "colab_type": "code",
    "colab": {}
   },
   "outputs": [],
   "source": [
    "#from https://discuss.pytorch.org/t/balanced-sampling-between-classes-with-torchvision-dataloader/2703/3\n",
    "def make_weights_for_balanced_classes(images, nclasses):\n",
    "  #returns appriopiate sampling weights for unbalanced data                        \n",
    "    count = [0] * nclasses                                                      \n",
    "    for item in images:                                                         \n",
    "        count[item[1]] += 1                                                     \n",
    "    weight_per_class = [0.] * nclasses                                      \n",
    "    N = float(sum(count))                                                   \n",
    "    for i in range(nclasses):                                                   \n",
    "        weight_per_class[i] = N/float(count[i])                                 \n",
    "    weight = [0] * len(images)                                              \n",
    "    for idx, val in enumerate(images):                                          \n",
    "        weight[idx] = weight_per_class[val[1]]                                  \n",
    "    return weight   "
   ]
  },
  {
   "cell_type": "code",
   "execution_count": 13,
   "metadata": {
    "id": "92rIVGurUeyb",
    "colab_type": "code",
    "colab": {}
   },
   "outputs": [],
   "source": [
    "jitter = torchvision.transforms.ColorJitter(hue=0.5, saturation=0.5, contrast=0.5)\n",
    "rotate = torchvision.transforms.RandomRotation(20)\n",
    "\n",
    "#crop to right input size of pre-trained network\n",
    "crop = torchvision.transforms.CenterCrop(480)\n",
    "resize = torchvision.transforms.Resize((224, 224))\n",
    "#standard normalizing required by resnet\n",
    "normalize = torchvision.transforms.Normalize(mean=[0.485, 0.456, 0.406],\n",
    "                                  std=[0.229, 0.224, 0.225])\n",
    "transforms = torchvision.transforms.Compose([crop, resize, rotate, jitter, torchvision.transforms.ToTensor(), normalize])\n",
    "\n",
    "train_dataset = torchvision.datasets.ImageFolder(\n",
    "        root=datadir+\"greenstand_train/\",\n",
    "        transform=transforms)\n",
    "\n",
    "#combat imbalanced classes by weightsampling\n",
    "weights = make_weights_for_balanced_classes(train_dataset.imgs, len(train_dataset.classes))                                                                \n",
    "weights = torch.DoubleTensor(weights)                                       \n",
    "sampler = torch.utils.data.sampler.WeightedRandomSampler(weights, len(weights))                     \n",
    "                                                                                                            \n",
    "\n",
    "train_loader = torch.utils.data.DataLoader(\n",
    "        train_dataset,\n",
    "        batch_size=32,\n",
    "        num_workers=20,\n",
    "        sampler = sampler)\n"
   ]
  },
  {
   "cell_type": "code",
   "execution_count": 7,
   "metadata": {
    "id": "4jQpkCdZ1sFt",
    "colab_type": "code",
    "colab": {
     "base_uri": "https://localhost:8080/",
     "height": 83.0,
     "referenced_widgets": [
      "b01701d268e34271a646a56576747ec4",
      "aab567af14f042dea40d45db7ec287e2",
      "083ba29c2641481592fa1da09d6b3d3d",
      "babc59e1821e41f39298a9a626e29a19",
      "83df2dac2af64a758610a534f41b4157",
      "f18a9e1e65c84b9f90c6f09b43e70984",
      "6f8271e3a7774712847efcea3c5b254f",
      "37501499b10c4c45ac560d42f7424821"
     ]
    },
    "outputId": "fefb2179-4e5a-4d0d-fa12-1e451161a2ab"
   },
   "outputs": [
    {
     "name": "stderr",
     "output_type": "stream",
     "text": [
      "Downloading: \"https://download.pytorch.org/models/resnet18-5c106cde.pth\" to /root/.cache/torch/checkpoints/resnet18-5c106cde.pth\n"
     ]
    },
    {
     "data": {
      "text/plain": [
       "HBox(children=(FloatProgress(value=0.0, max=46827520.0), HTML(value='')))"
      ]
     },
     "metadata": {
      "tags": []
     },
     "output_type": "display_data"
    },
    {
     "name": "stdout",
     "output_type": "stream",
     "text": [
      "\n"
     ]
    }
   ],
   "source": [
    "#initialize pre-trained model\n",
    "model = torchvision.models.resnet18(pretrained=True)\n",
    "#only use the pre-trained model as feature extracter\n",
    "for param in model.parameters():\n",
    "  param.requires_grad = False\n",
    "#change last layer to correct amount of classes\n",
    "num_ftrs = model.fc.in_features\n",
    "model.fc = torch.nn.Linear(num_ftrs, 5)\n",
    "model = model.to(device)"
   ]
  },
  {
   "cell_type": "code",
   "execution_count": 9,
   "metadata": {
    "id": "Mx40aPvzAIY1",
    "colab_type": "code",
    "colab": {}
   },
   "outputs": [],
   "source": [
    "model = torch.load(datadir+\"resnet18_model.pt\")\n",
    "model = model.to(device)"
   ]
  },
  {
   "cell_type": "code",
   "execution_count": 8,
   "metadata": {
    "id": "OvsmbLZCZFum",
    "colab_type": "code",
    "colab": {
     "base_uri": "https://localhost:8080/",
     "height": 68.0
    },
    "outputId": "04459683-fbed-4f8a-98cc-4c77e587425d"
   },
   "outputs": [
    {
     "name": "stdout",
     "output_type": "stream",
     "text": [
      "Params to learn:\n",
      "\t fc.weight\n",
      "\t fc.bias\n"
     ]
    }
   ],
   "source": [
    "#select only the parameters to be updated to pass to the optimizer\n",
    "params_to_update = model.parameters()\n",
    "print(\"Params to learn:\")\n",
    "params_to_update = []\n",
    "for name,param in model.named_parameters():\n",
    "    if param.requires_grad == True:\n",
    "        params_to_update.append(param)\n",
    "        print(\"\\t\",name)\n",
    "\n",
    "optimizer = torch.optim.Adam(params_to_update, lr=0.001)"
   ]
  },
  {
   "cell_type": "code",
   "execution_count": 9,
   "metadata": {
    "id": "x9Qu79hXZ21k",
    "colab_type": "code",
    "colab": {}
   },
   "outputs": [],
   "source": [
    "# Setup the loss\n",
    "criterion = torch.nn.CrossEntropyLoss()"
   ]
  },
  {
   "cell_type": "code",
   "execution_count": 18,
   "metadata": {
    "id": "wH-NjWQHaGUa",
    "colab_type": "code",
    "colab": {
     "base_uri": "https://localhost:8080/",
     "height": 1000.0
    },
    "outputId": "a577d749-b3bf-4c89-cca4-be3c916b495e"
   },
   "outputs": [
    {
     "name": "stdout",
     "output_type": "stream",
     "text": [
      "Epoch 0/9\n",
      "----------\n",
      "Progress: 0.00%\n",
      "Loss: 0.0018 Acc: 0.0059\n",
      "Progress: 6.06%\n",
      "Loss: 0.0290 Acc: 0.0560\n",
      "Progress: 12.12%\n",
      "Loss: 0.0596 Acc: 0.1046\n",
      "Progress: 18.18%\n",
      "Loss: 0.0859 Acc: 0.1552\n",
      "Progress: 24.24%\n",
      "Loss: 0.1150 Acc: 0.2051\n",
      "Progress: 30.30%\n",
      "Loss: 0.1422 Acc: 0.2564\n",
      "Progress: 36.36%\n",
      "Loss: 0.1686 Acc: 0.3066\n",
      "Progress: 42.42%\n",
      "Loss: 0.1974 Acc: 0.3560\n",
      "Progress: 48.48%\n",
      "Loss: 0.2253 Acc: 0.4065\n",
      "Progress: 54.55%\n",
      "Loss: 0.2479 Acc: 0.4583\n",
      "Progress: 60.61%\n",
      "Loss: 0.2736 Acc: 0.5095\n",
      "Progress: 66.67%\n",
      "Loss: 0.2987 Acc: 0.5605\n",
      "Progress: 72.73%\n",
      "Loss: 0.3184 Acc: 0.6142\n",
      "Progress: 78.79%\n",
      "Loss: 0.3411 Acc: 0.6672\n",
      "Progress: 84.85%\n",
      "Loss: 0.3681 Acc: 0.7171\n",
      "Progress: 90.91%\n",
      "Loss: 0.3952 Acc: 0.7677\n",
      "Progress: 96.97%\n",
      "Loss: 0.4234 Acc: 0.8175\n",
      "Epoch 1/9\n",
      "----------\n",
      "Progress: 0.00%\n",
      "Loss: 0.0024 Acc: 0.0049\n",
      "Progress: 6.06%\n",
      "Loss: 0.0321 Acc: 0.0556\n",
      "Progress: 12.12%\n",
      "Loss: 0.0565 Acc: 0.1078\n",
      "Progress: 18.18%\n",
      "Loss: 0.0837 Acc: 0.1594\n",
      "Progress: 24.24%\n",
      "Loss: 0.1109 Acc: 0.2099\n",
      "Progress: 30.30%\n",
      "Loss: 0.1383 Acc: 0.2600\n",
      "Progress: 36.36%\n",
      "Loss: 0.1652 Acc: 0.3118\n",
      "Progress: 42.42%\n",
      "Loss: 0.1894 Acc: 0.3632\n",
      "Progress: 48.48%\n",
      "Loss: 0.2215 Acc: 0.4125\n",
      "Progress: 54.55%\n",
      "Loss: 0.2503 Acc: 0.4619\n",
      "Progress: 60.61%\n",
      "Loss: 0.2777 Acc: 0.5139\n",
      "Progress: 66.67%\n",
      "Loss: 0.3025 Acc: 0.5662\n",
      "Progress: 72.73%\n",
      "Loss: 0.3254 Acc: 0.6192\n",
      "Progress: 78.79%\n",
      "Loss: 0.3533 Acc: 0.6706\n",
      "Progress: 84.85%\n",
      "Loss: 0.3808 Acc: 0.7222\n",
      "Progress: 90.91%\n",
      "Loss: 0.4052 Acc: 0.7727\n",
      "Progress: 96.97%\n",
      "Loss: 0.4319 Acc: 0.8226\n",
      "Epoch 2/9\n",
      "----------\n",
      "Progress: 0.00%\n",
      "Loss: 0.0037 Acc: 0.0042\n",
      "Progress: 6.06%\n",
      "Loss: 0.0376 Acc: 0.0531\n",
      "Progress: 12.12%\n",
      "Loss: 0.0632 Acc: 0.1038\n",
      "Progress: 18.18%\n",
      "Loss: 0.0891 Acc: 0.1556\n",
      "Progress: 24.24%\n",
      "Loss: 0.1178 Acc: 0.2055\n",
      "Progress: 30.30%\n",
      "Loss: 0.1493 Acc: 0.2539\n",
      "Progress: 36.36%\n",
      "Loss: 0.1760 Acc: 0.3046\n",
      "Progress: 42.42%\n",
      "Loss: 0.2046 Acc: 0.3550\n",
      "Progress: 48.48%\n",
      "Loss: 0.2311 Acc: 0.4055\n",
      "Progress: 54.55%\n",
      "Loss: 0.2592 Acc: 0.4556\n",
      "Progress: 60.61%\n",
      "Loss: 0.2907 Acc: 0.5059\n",
      "Progress: 66.67%\n",
      "Loss: 0.3140 Acc: 0.5565\n",
      "Progress: 72.73%\n",
      "Loss: 0.3419 Acc: 0.6068\n",
      "Progress: 78.79%\n",
      "Loss: 0.3672 Acc: 0.6579\n",
      "Progress: 84.85%\n",
      "Loss: 0.3932 Acc: 0.7087\n",
      "Progress: 90.91%\n",
      "Loss: 0.4178 Acc: 0.7609\n",
      "Progress: 96.97%\n",
      "Loss: 0.4434 Acc: 0.8110\n",
      "Epoch 3/9\n",
      "----------\n",
      "Progress: 0.00%\n",
      "Loss: 0.0027 Acc: 0.0047\n",
      "Progress: 6.06%\n",
      "Loss: 0.0285 Acc: 0.0548\n",
      "Progress: 12.12%\n",
      "Loss: 0.0512 Acc: 0.1082\n",
      "Progress: 18.18%\n",
      "Loss: 0.0757 Acc: 0.1592\n",
      "Progress: 24.24%\n",
      "Loss: 0.1049 Acc: 0.2083\n",
      "Progress: 30.30%\n",
      "Loss: 0.1381 Acc: 0.2571\n",
      "Progress: 36.36%\n",
      "Loss: 0.1666 Acc: 0.3085\n",
      "Progress: 42.42%\n",
      "Loss: 0.1955 Acc: 0.3588\n",
      "Progress: 48.48%\n",
      "Loss: 0.2181 Acc: 0.4114\n",
      "Progress: 54.55%\n",
      "Loss: 0.2449 Acc: 0.4628\n",
      "Progress: 60.61%\n",
      "Loss: 0.2707 Acc: 0.5127\n",
      "Progress: 66.67%\n",
      "Loss: 0.2979 Acc: 0.5632\n",
      "Progress: 72.73%\n",
      "Loss: 0.3221 Acc: 0.6144\n",
      "Progress: 78.79%\n",
      "Loss: 0.3515 Acc: 0.6653\n",
      "Progress: 84.85%\n",
      "Loss: 0.3786 Acc: 0.7157\n",
      "Progress: 90.91%\n",
      "Loss: 0.4099 Acc: 0.7649\n",
      "Progress: 96.97%\n",
      "Loss: 0.4339 Acc: 0.8159\n",
      "Epoch 4/9\n",
      "----------\n",
      "Progress: 0.00%\n",
      "Loss: 0.0014 Acc: 0.0057\n",
      "Progress: 6.06%\n",
      "Loss: 0.0261 Acc: 0.0577\n",
      "Progress: 12.12%\n",
      "Loss: 0.0524 Acc: 0.1078\n",
      "Progress: 18.18%\n",
      "Loss: 0.0790 Acc: 0.1590\n",
      "Progress: 24.24%\n",
      "Loss: 0.1070 Acc: 0.2099\n",
      "Progress: 30.30%\n",
      "Loss: 0.1355 Acc: 0.2590\n",
      "Progress: 36.36%\n",
      "Loss: 0.1635 Acc: 0.3078\n",
      "Progress: 42.42%\n",
      "Loss: 0.1892 Acc: 0.3596\n",
      "Progress: 48.48%\n",
      "Loss: 0.2142 Acc: 0.4114\n",
      "Progress: 54.55%\n",
      "Loss: 0.2387 Acc: 0.4643\n",
      "Progress: 60.61%\n",
      "Loss: 0.2705 Acc: 0.5127\n",
      "Progress: 66.67%\n",
      "Loss: 0.2980 Acc: 0.5641\n",
      "Progress: 72.73%\n",
      "Loss: 0.3230 Acc: 0.6146\n",
      "Progress: 78.79%\n",
      "Loss: 0.3464 Acc: 0.6679\n",
      "Progress: 84.85%\n",
      "Loss: 0.3692 Acc: 0.7205\n",
      "Progress: 90.91%\n",
      "Loss: 0.4016 Acc: 0.7694\n",
      "Progress: 96.97%\n",
      "Loss: 0.4287 Acc: 0.8195\n",
      "Epoch 5/9\n",
      "----------\n",
      "Progress: 0.00%\n",
      "Loss: 0.0019 Acc: 0.0053\n",
      "Progress: 6.06%\n",
      "Loss: 0.0227 Acc: 0.0583\n",
      "Progress: 12.12%\n",
      "Loss: 0.0513 Acc: 0.1087\n",
      "Progress: 18.18%\n",
      "Loss: 0.0729 Acc: 0.1615\n",
      "Progress: 24.24%\n",
      "Loss: 0.0998 Acc: 0.2120\n",
      "Progress: 30.30%\n",
      "Loss: 0.1266 Acc: 0.2622\n",
      "Progress: 36.36%\n",
      "Loss: 0.1517 Acc: 0.3131\n",
      "Progress: 42.42%\n",
      "Loss: 0.1743 Acc: 0.3655\n",
      "Progress: 48.48%\n",
      "Loss: 0.1995 Acc: 0.4180\n",
      "Progress: 54.55%\n",
      "Loss: 0.2303 Acc: 0.4664\n",
      "Progress: 60.61%\n",
      "Loss: 0.2534 Acc: 0.5182\n",
      "Progress: 66.67%\n",
      "Loss: 0.2821 Acc: 0.5679\n",
      "Progress: 72.73%\n",
      "Loss: 0.3059 Acc: 0.6207\n",
      "Progress: 78.79%\n",
      "Loss: 0.3296 Acc: 0.6719\n",
      "Progress: 84.85%\n",
      "Loss: 0.3590 Acc: 0.7216\n",
      "Progress: 90.91%\n",
      "Loss: 0.3850 Acc: 0.7725\n",
      "Progress: 96.97%\n",
      "Loss: 0.4108 Acc: 0.8237\n",
      "Epoch 6/9\n",
      "----------\n",
      "Progress: 0.00%\n",
      "Loss: 0.0015 Acc: 0.0057\n",
      "Progress: 6.06%\n",
      "Loss: 0.0322 Acc: 0.0554\n",
      "Progress: 12.12%\n",
      "Loss: 0.0553 Acc: 0.1089\n",
      "Progress: 18.18%\n",
      "Loss: 0.0812 Acc: 0.1588\n",
      "Progress: 24.24%\n",
      "Loss: 0.1032 Acc: 0.2121\n",
      "Progress: 30.30%\n",
      "Loss: 0.1262 Acc: 0.2643\n",
      "Progress: 36.36%\n",
      "Loss: 0.1512 Acc: 0.3150\n",
      "Progress: 42.42%\n",
      "Loss: 0.1809 Acc: 0.3630\n",
      "Progress: 48.48%\n",
      "Loss: 0.2046 Acc: 0.4139\n",
      "Progress: 54.55%\n",
      "Loss: 0.2315 Acc: 0.4651\n",
      "Progress: 60.61%\n",
      "Loss: 0.2561 Acc: 0.5167\n",
      "Progress: 66.67%\n",
      "Loss: 0.2794 Acc: 0.5685\n",
      "Progress: 72.73%\n",
      "Loss: 0.3072 Acc: 0.6192\n",
      "Progress: 78.79%\n",
      "Loss: 0.3322 Acc: 0.6708\n",
      "Progress: 84.85%\n",
      "Loss: 0.3559 Acc: 0.7228\n",
      "Progress: 90.91%\n",
      "Loss: 0.3827 Acc: 0.7738\n",
      "Progress: 96.97%\n",
      "Loss: 0.4079 Acc: 0.8260\n",
      "Epoch 7/9\n",
      "----------\n",
      "Progress: 0.00%\n",
      "Loss: 0.0019 Acc: 0.0055\n",
      "Progress: 6.06%\n",
      "Loss: 0.0295 Acc: 0.0560\n",
      "Progress: 12.12%\n",
      "Loss: 0.0608 Acc: 0.1053\n",
      "Progress: 18.18%\n",
      "Loss: 0.0898 Acc: 0.1545\n",
      "Progress: 24.24%\n",
      "Loss: 0.1166 Acc: 0.2046\n",
      "Progress: 30.30%\n",
      "Loss: 0.1472 Acc: 0.2552\n",
      "Progress: 36.36%\n",
      "Loss: 0.1732 Acc: 0.3059\n",
      "Progress: 42.42%\n",
      "Loss: 0.1979 Acc: 0.3564\n",
      "Progress: 48.48%\n",
      "Loss: 0.2304 Acc: 0.4051\n",
      "Progress: 54.55%\n",
      "Loss: 0.2608 Acc: 0.4533\n",
      "Progress: 60.61%\n",
      "Loss: 0.2924 Acc: 0.5021\n",
      "Progress: 66.67%\n",
      "Loss: 0.3208 Acc: 0.5524\n",
      "Progress: 72.73%\n",
      "Loss: 0.3495 Acc: 0.6017\n",
      "Progress: 78.79%\n",
      "Loss: 0.3782 Acc: 0.6516\n",
      "Progress: 84.85%\n",
      "Loss: 0.4041 Acc: 0.7015\n",
      "Progress: 90.91%\n",
      "Loss: 0.4332 Acc: 0.7505\n",
      "Progress: 96.97%\n",
      "Loss: 0.4584 Acc: 0.8028\n",
      "Epoch 8/9\n",
      "----------\n",
      "Progress: 0.00%\n",
      "Loss: 0.0021 Acc: 0.0053\n",
      "Progress: 6.06%\n",
      "Loss: 0.0251 Acc: 0.0569\n",
      "Progress: 12.12%\n",
      "Loss: 0.0496 Acc: 0.1074\n",
      "Progress: 18.18%\n",
      "Loss: 0.0779 Acc: 0.1579\n",
      "Progress: 24.24%\n",
      "Loss: 0.1001 Acc: 0.2097\n",
      "Progress: 30.30%\n",
      "Loss: 0.1319 Acc: 0.2581\n",
      "Progress: 36.36%\n",
      "Loss: 0.1565 Acc: 0.3102\n",
      "Progress: 42.42%\n",
      "Loss: 0.1841 Acc: 0.3615\n",
      "Progress: 48.48%\n",
      "Loss: 0.2142 Acc: 0.4116\n",
      "Progress: 54.55%\n",
      "Loss: 0.2374 Acc: 0.4645\n",
      "Progress: 60.61%\n",
      "Loss: 0.2624 Acc: 0.5159\n",
      "Progress: 66.67%\n",
      "Loss: 0.2918 Acc: 0.5672\n",
      "Progress: 72.73%\n",
      "Loss: 0.3177 Acc: 0.6192\n",
      "Progress: 78.79%\n",
      "Loss: 0.3417 Acc: 0.6702\n",
      "Progress: 84.85%\n",
      "Loss: 0.3653 Acc: 0.7211\n",
      "Progress: 90.91%\n",
      "Loss: 0.3961 Acc: 0.7700\n",
      "Progress: 96.97%\n",
      "Loss: 0.4208 Acc: 0.8220\n",
      "Epoch 9/9\n",
      "----------\n",
      "Progress: 0.00%\n",
      "Loss: 0.0022 Acc: 0.0051\n",
      "Progress: 6.06%\n",
      "Loss: 0.0275 Acc: 0.0562\n",
      "Progress: 12.12%\n",
      "Loss: 0.0576 Acc: 0.1057\n",
      "Progress: 18.18%\n",
      "Loss: 0.0844 Acc: 0.1575\n",
      "Progress: 24.24%\n",
      "Loss: 0.1083 Acc: 0.2087\n",
      "Progress: 30.30%\n",
      "Loss: 0.1331 Acc: 0.2607\n",
      "Progress: 36.36%\n",
      "Loss: 0.1588 Acc: 0.3120\n",
      "Progress: 42.42%\n",
      "Loss: 0.1902 Acc: 0.3607\n",
      "Progress: 48.48%\n",
      "Loss: 0.2151 Acc: 0.4108\n",
      "Progress: 54.55%\n",
      "Loss: 0.2429 Acc: 0.4598\n",
      "Progress: 60.61%\n",
      "Loss: 0.2680 Acc: 0.5108\n",
      "Progress: 66.67%\n",
      "Loss: 0.2935 Acc: 0.5622\n",
      "Progress: 72.73%\n",
      "Loss: 0.3204 Acc: 0.6135\n",
      "Progress: 78.79%\n",
      "Loss: 0.3459 Acc: 0.6651\n",
      "Progress: 84.85%\n",
      "Loss: 0.3696 Acc: 0.7167\n",
      "Progress: 90.91%\n",
      "Loss: 0.3962 Acc: 0.7666\n",
      "Progress: 96.97%\n",
      "Loss: 0.4223 Acc: 0.8175\n"
     ]
    }
   ],
   "source": [
    "num_epochs = 10\n",
    "\n",
    "model.train()\n",
    "for epoch in range(num_epochs):\n",
    "  print('Epoch {}/{}'.format(epoch, num_epochs - 1))\n",
    "  print('-' * 10)\n",
    "  running_loss= 0\n",
    "  running_corrects = 0\n",
    "\n",
    "  model.train()  # Set model to training mode\n",
    "  for c, data in enumerate(train_loader):\n",
    "      inputs = data[0].to(device)\n",
    "      labels = data[1].to(device)\n",
    "\n",
    "      # zero the parameter gradients\n",
    "      optimizer.zero_grad()\n",
    "\n",
    "      # forward\n",
    "      # track history if only in train\n",
    "     \n",
    "      outputs = model(inputs)\n",
    "      loss = criterion(outputs, labels)\n",
    "\n",
    "      _, preds = torch.max(outputs, 1)\n",
    "      loss.backward()\n",
    "      optimizer.step()\n",
    "\n",
    "\n",
    "      running_loss += loss.item() * inputs.size(0)\n",
    "      running_corrects += torch.sum(preds == labels.data)\n",
    "\n",
    "      epoch_loss = running_loss / len(train_loader.dataset)\n",
    "      epoch_acc = running_corrects.double() / len(train_loader.dataset)\n",
    "\n",
    "      if c%10 == 0:\n",
    "        print(f\"Progress: {c/len(train_loader)*100:.2f}%\")\n",
    "        print('Loss: {:.4f} Acc: {:.4f}'.format(epoch_loss, epoch_acc))\n",
    "\n"
   ]
  },
  {
   "cell_type": "code",
   "execution_count": 19,
   "metadata": {
    "id": "yxcBCig7GvGz",
    "colab_type": "code",
    "colab": {}
   },
   "outputs": [],
   "source": [
    "torch.save(model, datadir+\"resnet18_model.pt\")\n"
   ]
  },
  {
   "cell_type": "code",
   "execution_count": 20,
   "metadata": {
    "id": "9s7_TJRUhx38",
    "colab_type": "code",
    "colab": {}
   },
   "outputs": [],
   "source": [
    "test_dataset = torchvision.datasets.ImageFolder(\n",
    "        root=datadir+\"greenstand_test/\",\n",
    "        transform=transforms)\n",
    "\n",
    "test_loader = torch.utils.data.DataLoader(\n",
    "        test_dataset,\n",
    "        batch_size=16,\n",
    "        num_workers=20,\n",
    "        shuffle=True)\n"
   ]
  },
  {
   "cell_type": "code",
   "execution_count": 21,
   "metadata": {
    "id": "29R7Nlojin_-",
    "colab_type": "code",
    "colab": {
     "base_uri": "https://localhost:8080/",
     "height": 459.0
    },
    "outputId": "97a4ee9d-350c-492e-eb81-5bfb83f92de2"
   },
   "outputs": [
    {
     "name": "stdout",
     "output_type": "stream",
     "text": [
      "Performance on the Train set\n",
      "                   precision    recall  f1-score   support\n",
      "\n",
      "  cordia africana       0.94      0.98      0.96      1099\n",
      "           croton       0.86      0.67      0.75      1041\n",
      "       eucalyptus       0.73      0.87      0.79      1020\n",
      "         gravilia       0.89      0.91      0.90      1062\n",
      "rauvolfia cafffra       0.92      0.90      0.91      1048\n",
      "\n",
      "         accuracy                           0.87      5270\n",
      "        macro avg       0.87      0.87      0.86      5270\n",
      "     weighted avg       0.87      0.87      0.87      5270\n",
      "\n",
      "Performance on the Test set\n",
      "                   precision    recall  f1-score   support\n",
      "\n",
      "  cordia africana       0.84      0.80      0.82        20\n",
      "           croton       0.67      0.60      0.63        20\n",
      "       eucalyptus       0.69      0.90      0.78        20\n",
      "         gravilia       0.86      0.90      0.88        20\n",
      "rauvolfia cafffra       0.94      0.75      0.83        20\n",
      "\n",
      "         accuracy                           0.79       100\n",
      "        macro avg       0.80      0.79      0.79       100\n",
      "     weighted avg       0.80      0.79      0.79       100\n",
      "\n"
     ]
    }
   ],
   "source": [
    "from sklearn.metrics import classification_report\n",
    "model.eval()\n",
    "\n",
    "\n",
    "for loader, title in zip([train_loader, test_loader], [\"Train\", \"Test\"]):\n",
    "  target = []\n",
    "  predicted = []\n",
    "  for inputs, labels in loader:\n",
    "      inputs = inputs.to(device)\n",
    "      #labels = labels.to(device)\n",
    "\n",
    "      predicted += model(inputs).argmax(1).tolist()\n",
    "      target += labels.tolist()\n",
    "  print(\"Performance on the {} set\".format(title))\n",
    "  print(classification_report(target, predicted, target_names = test_dataset.class_to_idx.keys()))\n"
   ]
  },
  {
   "cell_type": "markdown",
   "metadata": {
    "id": "1BjrjZ36esxn",
    "colab_type": "text"
   },
   "source": [
    ""
   ]
  }
 ],
 "metadata": {
  "colab": {
   "name": "species_identification.ipynb",
   "provenance": [],
   "collapsed_sections": [
    "EpwgtmyOYl0_"
   ]
  },
  "kernelspec": {
   "name": "python3",
   "display_name": "Python 3"
  },
  "accelerator": "GPU",
  "widgets": {
   "application/vnd.jupyter.widget-state+json": {
    "b01701d268e34271a646a56576747ec4": {
     "model_module": "@jupyter-widgets/controls",
     "model_name": "HBoxModel",
     "state": {
      "_view_name": "HBoxView",
      "_dom_classes": [],
      "_model_name": "HBoxModel",
      "_view_module": "@jupyter-widgets/controls",
      "_model_module_version": "1.5.0",
      "_view_count": null,
      "_view_module_version": "1.5.0",
      "box_style": "",
      "layout": "IPY_MODEL_aab567af14f042dea40d45db7ec287e2",
      "_model_module": "@jupyter-widgets/controls",
      "children": [
       "IPY_MODEL_083ba29c2641481592fa1da09d6b3d3d",
       "IPY_MODEL_babc59e1821e41f39298a9a626e29a19"
      ]
     }
    },
    "aab567af14f042dea40d45db7ec287e2": {
     "model_module": "@jupyter-widgets/base",
     "model_name": "LayoutModel",
     "state": {
      "_view_name": "LayoutView",
      "grid_template_rows": null,
      "right": null,
      "justify_content": null,
      "_view_module": "@jupyter-widgets/base",
      "overflow": null,
      "_model_module_version": "1.2.0",
      "_view_count": null,
      "flex_flow": null,
      "width": null,
      "min_width": null,
      "border": null,
      "align_items": null,
      "bottom": null,
      "_model_module": "@jupyter-widgets/base",
      "top": null,
      "grid_column": null,
      "overflow_y": null,
      "overflow_x": null,
      "grid_auto_flow": null,
      "grid_area": null,
      "grid_template_columns": null,
      "flex": null,
      "_model_name": "LayoutModel",
      "justify_items": null,
      "grid_row": null,
      "max_height": null,
      "align_content": null,
      "visibility": null,
      "align_self": null,
      "height": null,
      "min_height": null,
      "padding": null,
      "grid_auto_rows": null,
      "grid_gap": null,
      "max_width": null,
      "order": null,
      "_view_module_version": "1.2.0",
      "grid_template_areas": null,
      "object_position": null,
      "object_fit": null,
      "grid_auto_columns": null,
      "margin": null,
      "display": null,
      "left": null
     }
    },
    "083ba29c2641481592fa1da09d6b3d3d": {
     "model_module": "@jupyter-widgets/controls",
     "model_name": "FloatProgressModel",
     "state": {
      "_view_name": "ProgressView",
      "style": "IPY_MODEL_83df2dac2af64a758610a534f41b4157",
      "_dom_classes": [],
      "description": "100%",
      "_model_name": "FloatProgressModel",
      "bar_style": "success",
      "max": 4.682752E7,
      "_view_module": "@jupyter-widgets/controls",
      "_model_module_version": "1.5.0",
      "value": 4.682752E7,
      "_view_count": null,
      "_view_module_version": "1.5.0",
      "orientation": "horizontal",
      "min": 0.0,
      "description_tooltip": null,
      "_model_module": "@jupyter-widgets/controls",
      "layout": "IPY_MODEL_f18a9e1e65c84b9f90c6f09b43e70984"
     }
    },
    "babc59e1821e41f39298a9a626e29a19": {
     "model_module": "@jupyter-widgets/controls",
     "model_name": "HTMLModel",
     "state": {
      "_view_name": "HTMLView",
      "style": "IPY_MODEL_6f8271e3a7774712847efcea3c5b254f",
      "_dom_classes": [],
      "description": "",
      "_model_name": "HTMLModel",
      "placeholder": "​",
      "_view_module": "@jupyter-widgets/controls",
      "_model_module_version": "1.5.0",
      "value": " 44.7M/44.7M [00:12&lt;00:00, 3.84MB/s]",
      "_view_count": null,
      "_view_module_version": "1.5.0",
      "description_tooltip": null,
      "_model_module": "@jupyter-widgets/controls",
      "layout": "IPY_MODEL_37501499b10c4c45ac560d42f7424821"
     }
    },
    "83df2dac2af64a758610a534f41b4157": {
     "model_module": "@jupyter-widgets/controls",
     "model_name": "ProgressStyleModel",
     "state": {
      "_view_name": "StyleView",
      "_model_name": "ProgressStyleModel",
      "description_width": "initial",
      "_view_module": "@jupyter-widgets/base",
      "_model_module_version": "1.5.0",
      "_view_count": null,
      "_view_module_version": "1.2.0",
      "bar_color": null,
      "_model_module": "@jupyter-widgets/controls"
     }
    },
    "f18a9e1e65c84b9f90c6f09b43e70984": {
     "model_module": "@jupyter-widgets/base",
     "model_name": "LayoutModel",
     "state": {
      "_view_name": "LayoutView",
      "grid_template_rows": null,
      "right": null,
      "justify_content": null,
      "_view_module": "@jupyter-widgets/base",
      "overflow": null,
      "_model_module_version": "1.2.0",
      "_view_count": null,
      "flex_flow": null,
      "width": null,
      "min_width": null,
      "border": null,
      "align_items": null,
      "bottom": null,
      "_model_module": "@jupyter-widgets/base",
      "top": null,
      "grid_column": null,
      "overflow_y": null,
      "overflow_x": null,
      "grid_auto_flow": null,
      "grid_area": null,
      "grid_template_columns": null,
      "flex": null,
      "_model_name": "LayoutModel",
      "justify_items": null,
      "grid_row": null,
      "max_height": null,
      "align_content": null,
      "visibility": null,
      "align_self": null,
      "height": null,
      "min_height": null,
      "padding": null,
      "grid_auto_rows": null,
      "grid_gap": null,
      "max_width": null,
      "order": null,
      "_view_module_version": "1.2.0",
      "grid_template_areas": null,
      "object_position": null,
      "object_fit": null,
      "grid_auto_columns": null,
      "margin": null,
      "display": null,
      "left": null
     }
    },
    "6f8271e3a7774712847efcea3c5b254f": {
     "model_module": "@jupyter-widgets/controls",
     "model_name": "DescriptionStyleModel",
     "state": {
      "_view_name": "StyleView",
      "_model_name": "DescriptionStyleModel",
      "description_width": "",
      "_view_module": "@jupyter-widgets/base",
      "_model_module_version": "1.5.0",
      "_view_count": null,
      "_view_module_version": "1.2.0",
      "_model_module": "@jupyter-widgets/controls"
     }
    },
    "37501499b10c4c45ac560d42f7424821": {
     "model_module": "@jupyter-widgets/base",
     "model_name": "LayoutModel",
     "state": {
      "_view_name": "LayoutView",
      "grid_template_rows": null,
      "right": null,
      "justify_content": null,
      "_view_module": "@jupyter-widgets/base",
      "overflow": null,
      "_model_module_version": "1.2.0",
      "_view_count": null,
      "flex_flow": null,
      "width": null,
      "min_width": null,
      "border": null,
      "align_items": null,
      "bottom": null,
      "_model_module": "@jupyter-widgets/base",
      "top": null,
      "grid_column": null,
      "overflow_y": null,
      "overflow_x": null,
      "grid_auto_flow": null,
      "grid_area": null,
      "grid_template_columns": null,
      "flex": null,
      "_model_name": "LayoutModel",
      "justify_items": null,
      "grid_row": null,
      "max_height": null,
      "align_content": null,
      "visibility": null,
      "align_self": null,
      "height": null,
      "min_height": null,
      "padding": null,
      "grid_auto_rows": null,
      "grid_gap": null,
      "max_width": null,
      "order": null,
      "_view_module_version": "1.2.0",
      "grid_template_areas": null,
      "object_position": null,
      "object_fit": null,
      "grid_auto_columns": null,
      "margin": null,
      "display": null,
      "left": null
     }
    }
   }
  }
 },
 "nbformat": 4,
 "nbformat_minor": 0
}
